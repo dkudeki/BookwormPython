{
 "cells": [
  {
   "cell_type": "code",
   "execution_count": 1,
   "metadata": {
    "collapsed": false
   },
   "outputs": [],
   "source": [
    "import os\n",
    "os.chdir(\"..\") # Change wd to root for easy dev"
   ]
  },
  {
   "cell_type": "code",
   "execution_count": 2,
   "metadata": {
    "collapsed": false
   },
   "outputs": [],
   "source": [
    "from bwypy import QueryBuilder, AND, OR"
   ]
  },
  {
   "cell_type": "code",
   "execution_count": 3,
   "metadata": {
    "collapsed": false
   },
   "outputs": [
    {
     "name": "stdout",
     "output_type": "stream",
     "text": [
      "{'search_limits': [{'country': [{'$eq': 'United States'}], 'publish_year': [{'$eq': 1890}], 'author_gender': [{'$eq': 'Female'}]}], 'groups': []}\n",
      "{'search_limits': [{'country': {'$ne': 'Canada'}}], 'groups': []}\n",
      "{'search_limits': [{'$or': [{'country': {'$eq': 'USA'}}, {'author_birth_country': {'$eq': 'USA'}}]}], 'groups': []}\n",
      "{'search_limits': [{'publisher': {'$grep': 'Little,? Brown ((and|&) ?[Cc]o\\\\.?)?'}}], 'groups': []}\n",
      "{'search_limits': [{'$or': [{'$and': [{'$or': [{'$and': [{'year': {'$gte': 1980}}, {'year': {'$lte': 1992}}]}, {'$and': [{'year': {'$gte': 2001}}, {'year': {'$lte': 2008}}]}]}, {'author_party': {'$eq': 'Republican'}}]}, {'$and': [{'$or': [{'$and': [{'year': {'$gte': 1993}}, {'year': {'$lte': 2000}}]}, {'year': {'$gte': 2009}}]}, {'author_party': {'$eq': 'Democrat'}}]}]}], 'groups': []}\n"
     ]
    }
   ],
   "source": [
    "q = QueryBuilder(['author_gender', 'country', \"publish_year\", \"author_birth_country\", \"publisher\"])\n",
    "print q.search_limits(q.author_gender==\"Female\", q.country==\"United States\", q.publish_year==1890)\n",
    "print q.search_limits(q.country != \"Canada\")\n",
    "print q.search_limits((q.country == \"USA\") |OR| (q.author_birth_country == \"USA\"))\n",
    "print q.search_limits(q.publisher.grep(\"Little,? Brown ((and|&) ?[Cc]o\\.?)?\"))\n",
    "\n",
    "q = QueryBuilder(['year', 'author_party'])\n",
    "reagan_bush1 = (q.year >= 1980) |AND| (q.year <= 1992)\n",
    "bush2 = (q.year >= 2001) |AND| (q.year <= 2008)\n",
    "clinton = (q.year >= 1993) |AND| (q.year <= 2000)\n",
    "obama = (q.year >= 2009)\n",
    "republican = (reagan_bush1 |OR| bush2) |AND| (q.author_party == \"Republican\")\n",
    "democrat = (clinton |OR| obama) |AND| (q.author_party == \"Democrat\")\n",
    "print q.search_limits(republican |OR| democrat)"
   ]
  },
  {
   "cell_type": "code",
   "execution_count": 4,
   "metadata": {
    "collapsed": false
   },
   "outputs": [],
   "source": [
    "fields = [u'lc_classes', u'lc_subclasses', u'fiction_nonfiction', u'genres', \n",
    "          u'languages', u'format', u'is_gov_doc', u'page_count_bin', u'word_count_bin', \n",
    "          u'publication_country', u'publication_state', u'publication_place', u'date_year']\n",
    "q = QueryBuilder(fields)"
   ]
  },
  {
   "cell_type": "code",
   "execution_count": 5,
   "metadata": {
    "collapsed": false
   },
   "outputs": [
    {
     "data": {
      "text/plain": [
       "{'$and': [{u'date_year': {'$lt': 100}}, {u'date_year': {'$gt': 100}}]}"
      ]
     },
     "execution_count": 5,
     "metadata": {},
     "output_type": "execute_result"
    }
   ],
   "source": [
    "(q.date_year < 100) |AND| (100 < q.date_year)"
   ]
  },
  {
   "cell_type": "code",
   "execution_count": 6,
   "metadata": {
    "collapsed": false
   },
   "outputs": [
    {
     "data": {
      "text/plain": [
       "{'search_limits': [{'$and': [{u'date_year': {'$gt': 1750}}, {u'date_year': {'$lte': 1923}}]}], 'groups': [u'publication_state']}"
      ]
     },
     "execution_count": 6,
     "metadata": {},
     "output_type": "execute_result"
    }
   ],
   "source": [
    "hard_date_limit = (q.date_year > 1750) |AND| (q.date_year <= 1923)\n",
    "q.search_limits(hard_date_limit).groups(q.publication_state)"
   ]
  }
 ],
 "metadata": {
  "kernelspec": {
   "display_name": "Python 2",
   "language": "python",
   "name": "python2"
  },
  "language_info": {
   "codemirror_mode": {
    "name": "ipython",
    "version": 2
   },
   "file_extension": ".py",
   "mimetype": "text/x-python",
   "name": "python",
   "nbconvert_exporter": "python",
   "pygments_lexer": "ipython2",
   "version": "2.7.9"
  }
 },
 "nbformat": 4,
 "nbformat_minor": 0
}
