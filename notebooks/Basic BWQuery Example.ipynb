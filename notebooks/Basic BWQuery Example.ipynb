{
  "nbformat": 4,
  "nbformat_minor": 0,
  "metadata": {
    "kernelspec": {
      "display_name": "Python 3",
      "language": "python",
      "name": "python3"
    },
    "language_info": {
      "codemirror_mode": {
        "name": "ipython",
        "version": 3
      },
      "file_extension": ".py",
      "mimetype": "text/x-python",
      "name": "python",
      "nbconvert_exporter": "python",
      "pygments_lexer": "ipython3",
      "version": "3.5.1"
    },
    "colab": {
      "name": "Basic BWQuery Example.ipynb",
      "provenance": [],
      "include_colab_link": true
    }
  },
  "cells": [
    {
      "cell_type": "markdown",
      "metadata": {
        "id": "view-in-github",
        "colab_type": "text"
      },
      "source": [
        "<a href=\"https://colab.research.google.com/github/organisciak/BookwormPython/blob/master/notebooks/Basic%20BWQuery%20Example.ipynb\" target=\"_parent\"><img src=\"https://colab.research.google.com/assets/colab-badge.svg\" alt=\"Open In Colab\"/></a>"
      ]
    },
    {
      "cell_type": "code",
      "metadata": {
        "id": "MSDJxSYLhqV4"
      },
      "source": [
        "!python -m pip install git+https://github.com/organisciak/BookwormPython/"
      ],
      "execution_count": null,
      "outputs": []
    },
    {
      "cell_type": "code",
      "metadata": {
        "id": "64DnM5OEhpDE"
      },
      "source": [
        "%matplotlib inline\n",
        "import bwypy\n",
        "bwypy.set_options(database='Bookworm2016', endpoint='https://bookworm.htrc.illinois.edu/cgi-bin/dbbindings.py')\n",
        "bw = bwypy.BWQuery(verify_cert=False)"
      ],
      "execution_count": null,
      "outputs": []
    },
    {
      "cell_type": "markdown",
      "metadata": {
        "id": "nMd8n39-hpDT"
      },
      "source": [
        "If I don't know the possible fields for the `bookworm4m` database, I can check `bw.fields()`:"
      ]
    },
    {
      "cell_type": "code",
      "metadata": {
        "id": "utQaYQPRhpDU",
        "outputId": "7b36f475-7b7e-4f28-921b-6d29b1038332",
        "colab": {
          "base_uri": "https://localhost:8080/"
        }
      },
      "source": [
        "bw.fields().name"
      ],
      "execution_count": 6,
      "outputs": [
        {
          "output_type": "execute_result",
          "data": {
            "text/plain": [
              "0                 language\n",
              "1      publication_country\n",
              "2        publication_state\n",
              "3                 subclass\n",
              "4             narrow_class\n",
              "5                    class\n",
              "6            resource_type\n",
              "7          target_audience\n",
              "8                  scanner\n",
              "9       first_author_birth\n",
              "10       first_author_name\n",
              "11    contributing_library\n",
              "12           literary_form\n",
              "13       cataloging_source\n",
              "14      first_author_death\n",
              "15             first_place\n",
              "16         first_publisher\n",
              "17                  is_gov\n",
              "18          subject_places\n",
              "19               date_year\n",
              "20        record_date_year\n",
              "Name: name, dtype: object"
            ]
          },
          "metadata": {
            "tags": []
          },
          "execution_count": 6
        }
      ]
    },
    {
      "cell_type": "markdown",
      "metadata": {
        "id": "WglSwu-AhpDc"
      },
      "source": [
        "Let's check out the number of books (`counttype: TextCount`) by publication country (`groups: publication_country`):"
      ]
    },
    {
      "cell_type": "code",
      "metadata": {
        "id": "EKNErSxAhpDd"
      },
      "source": [
        "bw.counttype = 'TextCount'\n",
        "bw.groups = ['publication_country']\n",
        "results = bw.run()"
      ],
      "execution_count": null,
      "outputs": []
    },
    {
      "cell_type": "markdown",
      "metadata": {
        "id": "1V3NTYC-hpDg"
      },
      "source": [
        "Show the results as a DataFrame (a table-like construct), sorted in descending order. Printing the first 7 results."
      ]
    },
    {
      "cell_type": "code",
      "metadata": {
        "id": "AFaKp0v1hpDh",
        "outputId": "6731167d-2f3c-41ad-97de-e2129883c3de",
        "colab": {
          "base_uri": "https://localhost:8080/",
          "height": 297
        }
      },
      "source": [
        "df = results.frame()\n",
        "df.head(7)"
      ],
      "execution_count": 8,
      "outputs": [
        {
          "output_type": "execute_result",
          "data": {
            "text/html": [
              "<div>\n",
              "<style scoped>\n",
              "    .dataframe tbody tr th:only-of-type {\n",
              "        vertical-align: middle;\n",
              "    }\n",
              "\n",
              "    .dataframe tbody tr th {\n",
              "        vertical-align: top;\n",
              "    }\n",
              "\n",
              "    .dataframe thead th {\n",
              "        text-align: right;\n",
              "    }\n",
              "</style>\n",
              "<table border=\"1\" class=\"dataframe\">\n",
              "  <thead>\n",
              "    <tr style=\"text-align: right;\">\n",
              "      <th></th>\n",
              "      <th>TextCount</th>\n",
              "    </tr>\n",
              "    <tr>\n",
              "      <th>publication_country</th>\n",
              "      <th></th>\n",
              "    </tr>\n",
              "  </thead>\n",
              "  <tbody>\n",
              "    <tr>\n",
              "      <th>USA</th>\n",
              "      <td>4560313</td>\n",
              "    </tr>\n",
              "    <tr>\n",
              "      <th>United Kingdom</th>\n",
              "      <td>1219331</td>\n",
              "    </tr>\n",
              "    <tr>\n",
              "      <th>No place, unknown, or undetermined</th>\n",
              "      <td>1182556</td>\n",
              "    </tr>\n",
              "    <tr>\n",
              "      <th>Germany</th>\n",
              "      <td>1070072</td>\n",
              "    </tr>\n",
              "    <tr>\n",
              "      <th>France</th>\n",
              "      <td>838832</td>\n",
              "    </tr>\n",
              "    <tr>\n",
              "      <th>Japan</th>\n",
              "      <td>477837</td>\n",
              "    </tr>\n",
              "    <tr>\n",
              "      <th>Italy</th>\n",
              "      <td>346024</td>\n",
              "    </tr>\n",
              "  </tbody>\n",
              "</table>\n",
              "</div>"
            ],
            "text/plain": [
              "                                    TextCount\n",
              "publication_country                          \n",
              "USA                                   4560313\n",
              "United Kingdom                        1219331\n",
              "No place, unknown, or undetermined    1182556\n",
              "Germany                               1070072\n",
              "France                                 838832\n",
              "Japan                                  477837\n",
              "Italy                                  346024"
            ]
          },
          "metadata": {
            "tags": []
          },
          "execution_count": 8
        }
      ]
    },
    {
      "cell_type": "code",
      "metadata": {
        "id": "XB39Ue37hpDm",
        "outputId": "0d990c33-952d-458f-dc4f-505a9d5add2e",
        "colab": {
          "base_uri": "https://localhost:8080/",
          "height": 295
        }
      },
      "source": [
        "df.head(20).plot.barh()"
      ],
      "execution_count": 9,
      "outputs": [
        {
          "output_type": "execute_result",
          "data": {
            "text/plain": [
              "<matplotlib.axes._subplots.AxesSubplot at 0x7ff33bccc3c8>"
            ]
          },
          "metadata": {
            "tags": []
          },
          "execution_count": 9
        },
        {
          "output_type": "display_data",
          "data": {
            "image/png": "[encoded data removed]",
            "text/plain": [
              "<Figure size 432x288 with 1 Axes>"
            ]
          },
          "metadata": {
            "tags": [],
            "needs_background": "light"
          }
        }
      ]
    },
    {
      "cell_type": "code",
      "metadata": {
        "id": "s1oOru9xhpDr",
        "outputId": "90f5648d-4619-4ae7-aa41-f80b91e99a86",
        "colab": {
          "base_uri": "https://localhost:8080/",
          "height": 351
        }
      },
      "source": [
        "# Count by year, limiting to >1600 and <2016\n",
        "bw.groups = ['date_year']\n",
        "bw.search_limits = { 'date_year' : { \"$gt\": 1600, \"$lt\": 2016 } }\n",
        "results = bw.run()\n",
        "results.frame(drop_zeros=True).sort_index().plot()"
      ],
      "execution_count": 10,
      "outputs": [
        {
          "output_type": "stream",
          "text": [
            "/usr/local/lib/python3.6/dist-packages/urllib3/connectionpool.py:847: InsecureRequestWarning: Unverified HTTPS request is being made. Adding certificate verification is strongly advised. See: https://urllib3.readthedocs.io/en/latest/advanced-usage.html#ssl-warnings\n",
            "  InsecureRequestWarning)\n"
          ],
          "name": "stderr"
        },
        {
          "output_type": "execute_result",
          "data": {
            "text/plain": [
              "<matplotlib.axes._subplots.AxesSubplot at 0x7ff33bb6e8d0>"
            ]
          },
          "metadata": {
            "tags": []
          },
          "execution_count": 10
        },
        {
          "output_type": "display_data",
          "data": {
            "image/png": "[encoded data removed]",
            "text/plain": [
              "<Figure size 432x288 with 1 Axes>"
            ]
          },
          "metadata": {
            "tags": [],
            "needs_background": "light"
          }
        }
      ]
    }
  ]
}